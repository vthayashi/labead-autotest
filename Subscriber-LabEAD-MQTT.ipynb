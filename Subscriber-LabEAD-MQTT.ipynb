{
 "cells": [
  {
   "cell_type": "markdown",
   "metadata": {
    "id": "ZRnc7vZFskrE"
   },
   "source": [
    "# Teste Automatizado de Circuito Digital com Laboratório Remoto"
   ]
  },
  {
   "cell_type": "markdown",
   "metadata": {
    "id": "DY9OsbFhwhj7"
   },
   "source": [
    "## Requisitos: Endereço do Broker, Usuário e Senha MQTT"
   ]
  },
  {
   "cell_type": "markdown",
   "metadata": {
    "id": "NkATHtgIwjV0"
   },
   "source": [
    "*   Endereço e porta do Broker MQTT do laboratório remoto (fornecido por monitores ou professores)\n"
   ]
  },
  {
   "cell_type": "code",
   "execution_count": null,
   "metadata": {
    "id": "6meNa2aFJB0u"
   },
   "outputs": [],
   "source": [
    "broker = \"\"\n",
    "\n",
    "port = "
   ]
  },
  {
   "cell_type": "markdown",
   "metadata": {
    "id": "yDwAB3jXJAt-"
   },
   "source": [
    "*   Usuário e senha do Cliente MQTT para acesso à bancada do laboratório remoto (fornecido por monitores ou professores)"
   ]
  },
  {
   "cell_type": "code",
   "execution_count": null,
   "metadata": {
    "id": "Mc6xZqa1JCce"
   },
   "outputs": [],
   "source": [
    "user = \"\"\n",
    "\n",
    "password = \"\""
   ]
  },
  {
   "cell_type": "markdown",
   "metadata": {
    "id": "Ch19R7TaJIWY"
   },
   "source": [
    "## Roteiro de Testes"
   ]
  },
  {
   "cell_type": "markdown",
   "metadata": {
    "id": "nN6156uFQgJM"
   },
   "source": [
    "Definição dos casos de teste. Cada caso de teste é composto por duas partes, sendo a primeira correspondente as entradas do sistema (E0 - E7) e a segunda correspondente as saídas esperadas (S0 - S3)"
   ]
  },
  {
   "cell_type": "code",
   "execution_count": null,
   "metadata": {
    "colab": {
     "base_uri": "https://localhost:8080/"
    },
    "executionInfo": {
     "elapsed": 272,
     "status": "ok",
     "timestamp": 1659208974187,
     "user": {
      "displayName": "Victor Takashi Hayashi",
      "userId": "03560862540367111246"
     },
     "user_tz": 180
    },
    "id": "N91IIh80s2pv",
    "outputId": "84fa3e89-5459-4795-e18b-7048d34f85ca"
   },
   "outputs": [
    {
     "data": {
      "text/plain": [
       "{'teste0-0': [[0, 0, 0, 0, 0, 0, 0, 0], [0, 0, 0, 0]],\n",
       " 'teste0-1': [[0, 0, 0, 0, 0, 0, 0, 1], [0, 0, 0, 1]],\n",
       " 'teste0-10': [[0, 0, 0, 0, 1, 0, 1, 0], [1, 0, 1, 0]],\n",
       " 'teste0-11': [[0, 0, 0, 0, 1, 0, 1, 1], [1, 0, 1, 1]],\n",
       " 'teste0-12': [[0, 0, 0, 0, 1, 1, 0, 0], [1, 1, 0, 0]],\n",
       " 'teste0-13': [[0, 0, 0, 0, 1, 1, 0, 1], [1, 1, 0, 1]],\n",
       " 'teste0-14': [[0, 0, 0, 0, 1, 1, 1, 0], [1, 1, 1, 0]],\n",
       " 'teste0-15': [[0, 0, 0, 0, 1, 1, 1, 1], [1, 1, 1, 1]],\n",
       " 'teste0-2': [[0, 0, 0, 0, 0, 0, 1, 0], [0, 0, 1, 0]],\n",
       " 'teste0-3': [[0, 0, 0, 0, 0, 0, 1, 1], [0, 0, 1, 1]],\n",
       " 'teste0-4': [[0, 0, 0, 0, 0, 1, 0, 0], [0, 1, 0, 0]],\n",
       " 'teste0-5': [[0, 0, 0, 0, 0, 1, 0, 1], [0, 1, 0, 1]],\n",
       " 'teste0-6': [[0, 0, 0, 0, 0, 1, 1, 0], [0, 1, 1, 0]],\n",
       " 'teste0-7': [[0, 0, 0, 0, 0, 1, 1, 1], [0, 1, 1, 1]],\n",
       " 'teste0-8': [[0, 0, 0, 0, 1, 0, 0, 0], [1, 0, 0, 0]],\n",
       " 'teste0-9': [[0, 0, 0, 0, 1, 0, 0, 1], [1, 0, 0, 1]]}"
      ]
     },
     "execution_count": 7,
     "metadata": {},
     "output_type": "execute_result"
    }
   ],
   "source": [
    "testes = {}\n",
    "\n",
    "# <nome do teste> [[<E0> <E1> <E2> <E3> <E4> <E5> <E6> <E7>], [<S0> <S1> <S2> <S3>]]\n",
    "\n",
    "testes['teste0-0'] = [[0,0,0,0,0,0,0,0], [0,0,0,0]]\n",
    "testes['teste0-1'] = [[0,0,0,0,0,0,0,1], [0,0,0,1]]\n",
    "testes['teste0-2'] = [[0,0,0,0,0,0,1,0], [0,0,1,0]]\n",
    "testes['teste0-3'] = [[0,0,0,0,0,0,1,1], [0,0,1,1]]\n",
    "testes['teste0-4'] = [[0,0,0,0,0,1,0,0], [0,1,0,0]]\n",
    "testes['teste0-5'] = [[0,0,0,0,0,1,0,1], [0,1,0,1]]\n",
    "testes['teste0-6'] = [[0,0,0,0,0,1,1,0], [0,1,1,0]]\n",
    "testes['teste0-7'] = [[0,0,0,0,0,1,1,1], [0,1,1,1]]\n",
    "testes['teste0-8'] = [[0,0,0,0,1,0,0,0], [1,0,0,0]]\n",
    "testes['teste0-9'] = [[0,0,0,0,1,0,0,1], [1,0,0,1]]\n",
    "testes['teste0-10'] = [[0,0,0,0,1,0,1,0], [1,0,1,0]]\n",
    "testes['teste0-11'] = [[0,0,0,0,1,0,1,1], [1,0,1,1]]\n",
    "testes['teste0-12'] = [[0,0,0,0,1,1,0,0], [1,1,0,0]]\n",
    "testes['teste0-13'] = [[0,0,0,0,1,1,0,1], [1,1,0,1]]\n",
    "testes['teste0-14'] = [[0,0,0,0,1,1,1,0], [1,1,1,0]]\n",
    "testes['teste0-15'] = [[0,0,0,0,1,1,1,1], [1,1,1,1]]\n",
    "\n",
    "testes"
   ]
  },
  {
   "cell_type": "code",
   "execution_count": null,
   "metadata": {
    "colab": {
     "base_uri": "https://localhost:8080/"
    },
    "executionInfo": {
     "elapsed": 294,
     "status": "ok",
     "timestamp": 1659208980499,
     "user": {
      "displayName": "Victor Takashi Hayashi",
      "userId": "03560862540367111246"
     },
     "user_tz": 180
    },
    "id": "LWaHpGw8u-sM",
    "outputId": "3d3d7469-5f14-48d5-9f13-7feb22417d62"
   },
   "outputs": [
    {
     "data": {
      "text/plain": [
       "['teste0-0',\n",
       " 'teste0-1',\n",
       " 'teste0-2',\n",
       " 'teste0-3',\n",
       " 'teste0-4',\n",
       " 'teste0-5',\n",
       " 'teste0-6',\n",
       " 'teste0-7',\n",
       " 'teste0-8',\n",
       " 'teste0-9',\n",
       " 'teste0-10',\n",
       " 'teste0-11',\n",
       " 'teste0-12',\n",
       " 'teste0-13',\n",
       " 'teste0-14',\n",
       " 'teste0-15']"
      ]
     },
     "execution_count": 8,
     "metadata": {},
     "output_type": "execute_result"
    }
   ],
   "source": [
    "lista_testes = list(testes.keys())\n",
    "\n",
    "lista_testes"
   ]
  },
  {
   "cell_type": "markdown",
   "metadata": {
    "id": "_Mad49cG3oq8"
   },
   "source": [
    "## Execução dos Testes"
   ]
  },
  {
   "cell_type": "markdown",
   "metadata": {
    "id": "w0Mfqcg98iWI"
   },
   "source": [
    "Iremos utilizar a biblioteca *paho-mqtt* compatível com o protocolo de padrão aberto MQTT:"
   ]
  },
  {
   "cell_type": "code",
   "execution_count": null,
   "metadata": {
    "colab": {
     "base_uri": "https://localhost:8080/"
    },
    "executionInfo": {
     "elapsed": 3609,
     "status": "ok",
     "timestamp": 1659208986417,
     "user": {
      "displayName": "Victor Takashi Hayashi",
      "userId": "03560862540367111246"
     },
     "user_tz": 180
    },
    "id": "PgHkhJrx8otS",
    "outputId": "acc35f50-8d35-4dad-ef8b-9b334b64c219"
   },
   "outputs": [
    {
     "name": "stdout",
     "output_type": "stream",
     "text": [
      "Looking in indexes: https://pypi.org/simple, https://us-python.pkg.dev/colab-wheels/public/simple/\n",
      "Requirement already satisfied: paho-mqtt in /usr/local/lib/python3.7/dist-packages (1.6.1)\n"
     ]
    }
   ],
   "source": [
    "!pip install paho-mqtt"
   ]
  },
  {
   "cell_type": "markdown",
   "metadata": {
    "id": "n9dFq0_Y8q-d"
   },
   "source": [
    "A célula a seguir é reponsável por criar um Cliente MQTT que irá atuar como Subscriber do sistema. Sua função é receber os resultados dos casos de teste e confrontar os resultados obtidos com as saídas esperadas, definidas anteriormente.\n",
    "\n",
    "Caso o teste tenha gerado um resultado esperado, uma mensagem de \"OK\" é apresentada para o teste em questão. Em caso contrário, é apresentada uma mensagem \"FAIL\"."
   ]
  },
  {
   "cell_type": "code",
   "execution_count": null,
   "metadata": {
    "colab": {
     "base_uri": "https://localhost:8080/",
     "height": 689
    },
    "executionInfo": {
     "elapsed": 70565,
     "status": "error",
     "timestamp": 1659209056972,
     "user": {
      "displayName": "Victor Takashi Hayashi",
      "userId": "03560862540367111246"
     },
     "user_tz": 180
    },
    "id": "1zL_E3RG8rNb",
    "outputId": "5d2e526b-4260-47b8-985d-4aa5a21d844a"
   },
   "outputs": [
    {
     "name": "stdout",
     "output_type": "stream",
     "text": [
      "Conectado com código de resultado 0\n",
      "---------------------------------\n",
      "teste0-0 OK\n",
      "teste0-1 OK\n",
      "teste0-2 FAIL\n",
      "teste0-3 OK\n",
      "teste0-4 OK\n",
      "teste0-5 OK\n",
      "teste0-6 OK\n",
      "teste0-7 OK\n",
      "teste0-8 OK\n",
      "teste0-9 OK\n",
      "teste0-10 OK\n",
      "teste0-11 OK\n",
      "teste0-12 OK\n",
      "teste0-13 OK\n",
      "teste0-14 OK\n",
      "teste0-15 OK\n"
     ]
    },
    {
     "ename": "KeyboardInterrupt",
     "evalue": "ignored",
     "output_type": "error",
     "traceback": [
      "\u001b[0;31m---------------------------------------------------------------------------\u001b[0m",
      "\u001b[0;31mKeyboardInterrupt\u001b[0m                         Traceback (most recent call last)",
      "\u001b[0;32m<ipython-input-10-47e3853abd14>\u001b[0m in \u001b[0;36m<module>\u001b[0;34m()\u001b[0m\n\u001b[1;32m     58\u001b[0m \u001b[0mclient\u001b[0m\u001b[0;34m.\u001b[0m\u001b[0mconnect\u001b[0m\u001b[0;34m(\u001b[0m\u001b[0mbroker\u001b[0m\u001b[0;34m,\u001b[0m \u001b[0mport\u001b[0m\u001b[0;34m)\u001b[0m\u001b[0;34m\u001b[0m\u001b[0;34m\u001b[0m\u001b[0m\n\u001b[1;32m     59\u001b[0m \u001b[0;34m\u001b[0m\u001b[0m\n\u001b[0;32m---> 60\u001b[0;31m \u001b[0mclient\u001b[0m\u001b[0;34m.\u001b[0m\u001b[0mloop_forever\u001b[0m\u001b[0;34m(\u001b[0m\u001b[0;34m)\u001b[0m\u001b[0;34m\u001b[0m\u001b[0;34m\u001b[0m\u001b[0m\n\u001b[0m",
      "\u001b[0;32m/usr/local/lib/python3.7/dist-packages/paho/mqtt/client.py\u001b[0m in \u001b[0;36mloop_forever\u001b[0;34m(self, timeout, max_packets, retry_first_connection)\u001b[0m\n\u001b[1;32m   1754\u001b[0m             \u001b[0mrc\u001b[0m \u001b[0;34m=\u001b[0m \u001b[0mMQTT_ERR_SUCCESS\u001b[0m\u001b[0;34m\u001b[0m\u001b[0;34m\u001b[0m\u001b[0m\n\u001b[1;32m   1755\u001b[0m             \u001b[0;32mwhile\u001b[0m \u001b[0mrc\u001b[0m \u001b[0;34m==\u001b[0m \u001b[0mMQTT_ERR_SUCCESS\u001b[0m\u001b[0;34m:\u001b[0m\u001b[0;34m\u001b[0m\u001b[0;34m\u001b[0m\u001b[0m\n\u001b[0;32m-> 1756\u001b[0;31m                 \u001b[0mrc\u001b[0m \u001b[0;34m=\u001b[0m \u001b[0mself\u001b[0m\u001b[0;34m.\u001b[0m\u001b[0m_loop\u001b[0m\u001b[0;34m(\u001b[0m\u001b[0mtimeout\u001b[0m\u001b[0;34m)\u001b[0m\u001b[0;34m\u001b[0m\u001b[0;34m\u001b[0m\u001b[0m\n\u001b[0m\u001b[1;32m   1757\u001b[0m                 \u001b[0;31m# We don't need to worry about locking here, because we've\u001b[0m\u001b[0;34m\u001b[0m\u001b[0;34m\u001b[0m\u001b[0;34m\u001b[0m\u001b[0m\n\u001b[1;32m   1758\u001b[0m                 \u001b[0;31m# either called loop_forever() when in single threaded mode, or\u001b[0m\u001b[0;34m\u001b[0m\u001b[0;34m\u001b[0m\u001b[0;34m\u001b[0m\u001b[0m\n",
      "\u001b[0;32m/usr/local/lib/python3.7/dist-packages/paho/mqtt/client.py\u001b[0m in \u001b[0;36m_loop\u001b[0;34m(self, timeout)\u001b[0m\n\u001b[1;32m   1148\u001b[0m \u001b[0;34m\u001b[0m\u001b[0m\n\u001b[1;32m   1149\u001b[0m         \u001b[0;32mtry\u001b[0m\u001b[0;34m:\u001b[0m\u001b[0;34m\u001b[0m\u001b[0;34m\u001b[0m\u001b[0m\n\u001b[0;32m-> 1150\u001b[0;31m             \u001b[0msocklist\u001b[0m \u001b[0;34m=\u001b[0m \u001b[0mselect\u001b[0m\u001b[0;34m.\u001b[0m\u001b[0mselect\u001b[0m\u001b[0;34m(\u001b[0m\u001b[0mrlist\u001b[0m\u001b[0;34m,\u001b[0m \u001b[0mwlist\u001b[0m\u001b[0;34m,\u001b[0m \u001b[0;34m[\u001b[0m\u001b[0;34m]\u001b[0m\u001b[0;34m,\u001b[0m \u001b[0mtimeout\u001b[0m\u001b[0;34m)\u001b[0m\u001b[0;34m\u001b[0m\u001b[0;34m\u001b[0m\u001b[0m\n\u001b[0m\u001b[1;32m   1151\u001b[0m         \u001b[0;32mexcept\u001b[0m \u001b[0mTypeError\u001b[0m\u001b[0;34m:\u001b[0m\u001b[0;34m\u001b[0m\u001b[0;34m\u001b[0m\u001b[0m\n\u001b[1;32m   1152\u001b[0m             \u001b[0;31m# Socket isn't correct type, in likelihood connection is lost\u001b[0m\u001b[0;34m\u001b[0m\u001b[0;34m\u001b[0m\u001b[0;34m\u001b[0m\u001b[0m\n",
      "\u001b[0;31mKeyboardInterrupt\u001b[0m: "
     ]
    }
   ],
   "source": [
    "import paho.mqtt.client as mqtt\n",
    "\n",
    "import time\n",
    "\n",
    "estado = [0, 0, 0, 0]\n",
    "\n",
    "def on_connect(client, userdata, flags, rc):\n",
    "\n",
    "  print(\"Conectado com código de resultado \"+str(rc))\n",
    "  print(\"---------------------------------\")\n",
    "\n",
    "  client.subscribe(user+\"/autotest\")\n",
    "\n",
    "  client.subscribe(user+\"/S0\")\n",
    "  client.subscribe(user+\"/S1\")\n",
    "  client.subscribe(user+\"/S2\")\n",
    "  client.subscribe(user+\"/S3\")\n",
    "\n",
    "def on_message(client, userdata, msg):\n",
    "\n",
    "  #print(msg.topic+\" \"+str(msg.payload))\n",
    "\n",
    "  if (msg.topic == user+\"/autotest\"):\n",
    "\n",
    "    try:\n",
    "      if (estado == testes[msg.payload.decode(\"utf-8\")][1]):\n",
    "        print(msg.payload.decode(\"utf-8\") + \" OK\")\n",
    "      \n",
    "      else:\n",
    "        print(msg.payload.decode(\"utf-8\") + \" FAIL\")\n",
    "\n",
    "    except:\n",
    "      print(\"Teste executado não está na lista\")\n",
    "\n",
    "  if (msg.topic == user+\"/S0\"):\n",
    "    estado[0] = int(msg.payload.decode(\"utf-8\"))\n",
    "    #print(estado)\n",
    "\n",
    "  if (msg.topic == user+\"/S1\"):\n",
    "    estado[1] = int(msg.payload.decode(\"utf-8\"))\n",
    "    #print(estado)\n",
    "\n",
    "  if (msg.topic == user+\"/S2\"):\n",
    "    estado[2] = int(msg.payload.decode(\"utf-8\"))\n",
    "    #print(estado)\n",
    "\n",
    "  if (msg.topic == user+\"/S3\"):\n",
    "    estado[3] = int(msg.payload.decode(\"utf-8\"))\n",
    "    #print(estado)\n",
    "\n",
    "  #print(estado)\n",
    "\n",
    "client = mqtt.Client()\n",
    "client.on_connect = on_connect\n",
    "client.on_message = on_message\n",
    "\n",
    "client.username_pw_set(user, password)\n",
    "client.connect(broker, port)\n",
    "\n",
    "client.loop_forever()"
   ]
  }
 ],
 "metadata": {
  "colab": {
   "collapsed_sections": [],
   "name": "Subscriber-LabEAD-MQTT.ipynb",
   "provenance": []
  },
  "kernelspec": {
   "display_name": "Python 3",
   "language": "python",
   "name": "python3"
  },
  "language_info": {
   "codemirror_mode": {
    "name": "ipython",
    "version": 3
   },
   "file_extension": ".py",
   "mimetype": "text/x-python",
   "name": "python",
   "nbconvert_exporter": "python",
   "pygments_lexer": "ipython3",
   "version": "3.7.6"
  }
 },
 "nbformat": 4,
 "nbformat_minor": 1
}
