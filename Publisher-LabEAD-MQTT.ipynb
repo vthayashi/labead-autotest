{
 "cells": [
  {
   "cell_type": "markdown",
   "metadata": {
    "id": "ZRnc7vZFskrE"
   },
   "source": [
    "# Teste Automatizado de Circuito Digital com Laboratório Remoto"
   ]
  },
  {
   "cell_type": "markdown",
   "metadata": {
    "id": "DY9OsbFhwhj7"
   },
   "source": [
    "## Requisitos: Endereço do Broker, Usuário e Senha MQTT"
   ]
  },
  {
   "cell_type": "markdown",
   "metadata": {
    "id": "NkATHtgIwjV0"
   },
   "source": [
    "*   Endereço e porta do Broker MQTT do laboratório remoto (fornecido por monitores ou professores)\n"
   ]
  },
  {
   "cell_type": "code",
   "execution_count": null,
   "metadata": {
    "id": "6meNa2aFJB0u"
   },
   "outputs": [],
   "source": [
    "broker = \"\"\n",
    "\n",
    "port = "
   ]
  },
  {
   "cell_type": "markdown",
   "metadata": {
    "id": "yDwAB3jXJAt-"
   },
   "source": [
    "*   Usuário e senha do Cliente MQTT para acesso à bancada do laboratório remoto (fornecido por monitores ou professores)"
   ]
  },
  {
   "cell_type": "code",
   "execution_count": null,
   "metadata": {
    "id": "Mc6xZqa1JCce"
   },
   "outputs": [],
   "source": [
    "user = \"\"\n",
    "\n",
    "password = \"\""
   ]
  },
  {
   "cell_type": "markdown",
   "metadata": {
    "id": "Ch19R7TaJIWY"
   },
   "source": [
    "## Roteiro de Testes"
   ]
  },
  {
   "cell_type": "markdown",
   "metadata": {
    "id": "jD7R7pvAQqSi"
   },
   "source": [
    "Definição dos casos de teste. Cada caso de teste é composto por duas partes, sendo a primeira correspondente as entradas do sistema (E0 - E7) e a segunda correspondente as saídas esperadas (S0 - S3)"
   ]
  },
  {
   "cell_type": "code",
   "execution_count": null,
   "metadata": {
    "colab": {
     "base_uri": "https://localhost:8080/"
    },
    "executionInfo": {
     "elapsed": 248,
     "status": "ok",
     "timestamp": 1659208577932,
     "user": {
      "displayName": "Victor Takashi Hayashi",
      "userId": "03560862540367111246"
     },
     "user_tz": 180
    },
    "id": "8vXQyuTzqeBJ",
    "outputId": "1bbc3cb7-3fa6-447c-f6ed-49e0651637d7"
   },
   "outputs": [
    {
     "data": {
      "text/plain": [
       "{'teste0-0': [[0, 0, 0, 0, 0, 0, 0, 0], [0, 0, 0, 0]],\n",
       " 'teste0-1': [[0, 0, 0, 0, 0, 0, 0, 1], [0, 0, 0, 1]],\n",
       " 'teste0-10': [[0, 0, 0, 0, 1, 0, 1, 0], [1, 0, 1, 0]],\n",
       " 'teste0-11': [[0, 0, 0, 0, 1, 0, 1, 1], [1, 0, 1, 1]],\n",
       " 'teste0-12': [[0, 0, 0, 0, 1, 1, 0, 0], [1, 1, 0, 0]],\n",
       " 'teste0-13': [[0, 0, 0, 0, 1, 1, 0, 1], [1, 1, 0, 1]],\n",
       " 'teste0-14': [[0, 0, 0, 0, 1, 1, 1, 0], [1, 1, 1, 0]],\n",
       " 'teste0-15': [[0, 0, 0, 0, 1, 1, 1, 1], [1, 1, 1, 1]],\n",
       " 'teste0-2': [[0, 0, 0, 0, 0, 0, 1, 0], [0, 0, 1, 0]],\n",
       " 'teste0-3': [[0, 0, 0, 0, 0, 0, 1, 1], [0, 0, 1, 1]],\n",
       " 'teste0-4': [[0, 0, 0, 0, 0, 1, 0, 0], [0, 1, 0, 0]],\n",
       " 'teste0-5': [[0, 0, 0, 0, 0, 1, 0, 1], [0, 1, 0, 1]],\n",
       " 'teste0-6': [[0, 0, 0, 0, 0, 1, 1, 0], [0, 1, 1, 0]],\n",
       " 'teste0-7': [[0, 0, 0, 0, 0, 1, 1, 1], [0, 1, 1, 1]],\n",
       " 'teste0-8': [[0, 0, 0, 0, 1, 0, 0, 0], [1, 0, 0, 0]],\n",
       " 'teste0-9': [[0, 0, 0, 0, 1, 0, 0, 1], [1, 0, 0, 1]]}"
      ]
     },
     "execution_count": 3,
     "metadata": {},
     "output_type": "execute_result"
    }
   ],
   "source": [
    "testes = {}\n",
    "\n",
    "# <nome do teste> [[<E0> <E1> <E2> <E3> <E4> <E5> <E6> <E7>], [<S0> <S1> <S2> <S3>]]\n",
    "\n",
    "testes['teste0-0'] = [[0,0,0,0,0,0,0,0], [0,0,0,0]]\n",
    "testes['teste0-1'] = [[0,0,0,0,0,0,0,1], [0,0,0,1]]\n",
    "testes['teste0-2'] = [[0,0,0,0,0,0,1,0], [0,0,1,0]]\n",
    "testes['teste0-3'] = [[0,0,0,0,0,0,1,1], [0,0,1,1]]\n",
    "testes['teste0-4'] = [[0,0,0,0,0,1,0,0], [0,1,0,0]]\n",
    "testes['teste0-5'] = [[0,0,0,0,0,1,0,1], [0,1,0,1]]\n",
    "testes['teste0-6'] = [[0,0,0,0,0,1,1,0], [0,1,1,0]]\n",
    "testes['teste0-7'] = [[0,0,0,0,0,1,1,1], [0,1,1,1]]\n",
    "testes['teste0-8'] = [[0,0,0,0,1,0,0,0], [1,0,0,0]]\n",
    "testes['teste0-9'] = [[0,0,0,0,1,0,0,1], [1,0,0,1]]\n",
    "testes['teste0-10'] = [[0,0,0,0,1,0,1,0], [1,0,1,0]]\n",
    "testes['teste0-11'] = [[0,0,0,0,1,0,1,1], [1,0,1,1]]\n",
    "testes['teste0-12'] = [[0,0,0,0,1,1,0,0], [1,1,0,0]]\n",
    "testes['teste0-13'] = [[0,0,0,0,1,1,0,1], [1,1,0,1]]\n",
    "testes['teste0-14'] = [[0,0,0,0,1,1,1,0], [1,1,1,0]]\n",
    "testes['teste0-15'] = [[0,0,0,0,1,1,1,1], [1,1,1,1]]\n",
    "\n",
    "testes"
   ]
  },
  {
   "cell_type": "code",
   "execution_count": null,
   "metadata": {
    "colab": {
     "base_uri": "https://localhost:8080/"
    },
    "executionInfo": {
     "elapsed": 283,
     "status": "ok",
     "timestamp": 1659208581911,
     "user": {
      "displayName": "Victor Takashi Hayashi",
      "userId": "03560862540367111246"
     },
     "user_tz": 180
    },
    "id": "qlgp4BumwVFP",
    "outputId": "d73caac3-d51c-47d6-c42f-a9bcbce8aec9"
   },
   "outputs": [
    {
     "data": {
      "text/plain": [
       "['teste0-0',\n",
       " 'teste0-1',\n",
       " 'teste0-2',\n",
       " 'teste0-3',\n",
       " 'teste0-4',\n",
       " 'teste0-5',\n",
       " 'teste0-6',\n",
       " 'teste0-7',\n",
       " 'teste0-8',\n",
       " 'teste0-9',\n",
       " 'teste0-10',\n",
       " 'teste0-11',\n",
       " 'teste0-12',\n",
       " 'teste0-13',\n",
       " 'teste0-14',\n",
       " 'teste0-15']"
      ]
     },
     "execution_count": 4,
     "metadata": {},
     "output_type": "execute_result"
    }
   ],
   "source": [
    "lista_testes = list(testes.keys())\n",
    "\n",
    "lista_testes"
   ]
  },
  {
   "cell_type": "markdown",
   "metadata": {
    "id": "_Mad49cG3oq8"
   },
   "source": [
    "## Execução dos Testes"
   ]
  },
  {
   "cell_type": "markdown",
   "metadata": {
    "id": "w0Mfqcg98iWI"
   },
   "source": [
    "Iremos utilizar a biblioteca *paho-mqtt* compatível com o protocolo de padrão aberto MQTT:"
   ]
  },
  {
   "cell_type": "code",
   "execution_count": null,
   "metadata": {
    "colab": {
     "base_uri": "https://localhost:8080/"
    },
    "executionInfo": {
     "elapsed": 3002,
     "status": "ok",
     "timestamp": 1659208588138,
     "user": {
      "displayName": "Victor Takashi Hayashi",
      "userId": "03560862540367111246"
     },
     "user_tz": 180
    },
    "id": "PgHkhJrx8otS",
    "outputId": "0703d137-9de9-4763-ee23-4b2d0995bfb1"
   },
   "outputs": [
    {
     "name": "stdout",
     "output_type": "stream",
     "text": [
      "Looking in indexes: https://pypi.org/simple, https://us-python.pkg.dev/colab-wheels/public/simple/\n",
      "Requirement already satisfied: paho-mqtt in /usr/local/lib/python3.7/dist-packages (1.6.1)\n"
     ]
    }
   ],
   "source": [
    "!pip install paho-mqtt"
   ]
  },
  {
   "cell_type": "markdown",
   "metadata": {
    "id": "n9dFq0_Y8q-d"
   },
   "source": [
    "Criação de um Cliente MQTT:"
   ]
  },
  {
   "cell_type": "code",
   "execution_count": null,
   "metadata": {
    "id": "1zL_E3RG8rNb"
   },
   "outputs": [],
   "source": [
    "import paho.mqtt.client as mqtt\n",
    "\n",
    "import time\n",
    "\n",
    "def on_connect(client, userdata, flags, rc):\n",
    "\n",
    "    print(\"Connected with result code \"+str(rc))\n",
    "\n",
    "    Connected = True\n",
    "\n",
    "    client.subscribe(user+\"/led\") # MODIFY HERE  MODIFY HERE MODIFY HERE MODIFY HERE\n",
    "\n",
    "def on_message(client, userdata, msg):\n",
    "    print(msg.topic+\" \"+str(msg.payload))\n",
    "\n",
    "Connected = False\n",
    "\n",
    "client = mqtt.Client()\n",
    "client.on_connect = on_connect\n",
    "client.on_message = on_message\n",
    "\n",
    "client.username_pw_set(user, password)\n",
    "client.connect(broker, port)"
   ]
  },
  {
   "cell_type": "markdown",
   "metadata": {
    "id": "fV52MAEdRTVG"
   },
   "source": [
    "A célula a seguir faz com que o Cliente MQTT fique com a conexão ativa (em loop) com o Broker MQTT"
   ]
  },
  {
   "cell_type": "code",
   "execution_count": null,
   "metadata": {
    "colab": {
     "base_uri": "https://localhost:8080/"
    },
    "executionInfo": {
     "elapsed": 669,
     "status": "ok",
     "timestamp": 1659209002520,
     "user": {
      "displayName": "Victor Takashi Hayashi",
      "userId": "03560862540367111246"
     },
     "user_tz": 180
    },
    "id": "qT0wrcwkOLFx",
    "outputId": "3ef8ad48-5634-4613-8c2e-9d62ebdc344a"
   },
   "outputs": [
    {
     "name": "stdout",
     "output_type": "stream",
     "text": [
      "Connected with result code 0\n"
     ]
    }
   ],
   "source": [
    "client.loop_start()"
   ]
  },
  {
   "cell_type": "markdown",
   "metadata": {
    "id": "l5uscohFRfh_"
   },
   "source": [
    "Execução dos casos de teste. O Cliente MQTT lê as informações correpondentes as entradas dos casos de teste e envia essas informações para o dispositivo a ser testado "
   ]
  },
  {
   "cell_type": "code",
   "execution_count": null,
   "metadata": {
    "colab": {
     "base_uri": "https://localhost:8080/"
    },
    "executionInfo": {
     "elapsed": 32341,
     "status": "ok",
     "timestamp": 1659209037715,
     "user": {
      "displayName": "Victor Takashi Hayashi",
      "userId": "03560862540367111246"
     },
     "user_tz": 180
    },
    "id": "ORNI49ynpyfd",
    "outputId": "ae77abff-9fad-4c13-b31a-60a19c40087c"
   },
   "outputs": [
    {
     "name": "stdout",
     "output_type": "stream",
     "text": [
      "[0, 0, 0, 0, 0, 0, 0, 0]\n",
      "[0, 0, 0, 0, 0, 0, 0, 1]\n",
      "[0, 0, 0, 0, 0, 0, 1, 0]\n",
      "[0, 0, 0, 0, 0, 0, 1, 1]\n",
      "[0, 0, 0, 0, 0, 1, 0, 0]\n",
      "[0, 0, 0, 0, 0, 1, 0, 1]\n",
      "[0, 0, 0, 0, 0, 1, 1, 0]\n",
      "[0, 0, 0, 0, 0, 1, 1, 1]\n",
      "[0, 0, 0, 0, 1, 0, 0, 0]\n",
      "[0, 0, 0, 0, 1, 0, 0, 1]\n",
      "[0, 0, 0, 0, 1, 0, 1, 0]\n",
      "[0, 0, 0, 0, 1, 0, 1, 1]\n",
      "[0, 0, 0, 0, 1, 1, 0, 0]\n",
      "[0, 0, 0, 0, 1, 1, 0, 1]\n",
      "[0, 0, 0, 0, 1, 1, 1, 0]\n",
      "[0, 0, 0, 0, 1, 1, 1, 1]\n"
     ]
    }
   ],
   "source": [
    "for teste in lista_testes:\n",
    "\n",
    "  entradas = testes[teste][0]\n",
    "\n",
    "  print(entradas)\n",
    "\n",
    "  client.publish(user+\"/E0\", entradas[0])\n",
    "  client.publish(user+\"/E1\", entradas[1])\n",
    "  client.publish(user+\"/E2\", entradas[2])\n",
    "  client.publish(user+\"/E3\", entradas[3])\n",
    "  client.publish(user+\"/E4\", entradas[4])\n",
    "  client.publish(user+\"/E5\", entradas[5])\n",
    "  client.publish(user+\"/E6\", entradas[6])\n",
    "  client.publish(user+\"/E7\", entradas[7])\n",
    "\n",
    "  time.sleep(2)\n",
    "\n",
    "  client.publish(user+\"/autotest\", teste)"
   ]
  },
  {
   "cell_type": "markdown",
   "metadata": {
    "id": "NsZ2q_25R0Pa"
   },
   "source": [
    "A célula a seguir desconecta o Cliente MQTT do broker, finalizando sua comunicação"
   ]
  },
  {
   "cell_type": "code",
   "execution_count": null,
   "metadata": {
    "id": "Pw1lJrThOGvw"
   },
   "outputs": [],
   "source": [
    "client.disconnect()\n",
    "client.loop_stop()"
   ]
  }
 ],
 "metadata": {
  "colab": {
   "collapsed_sections": [],
   "name": "Publisher-LabEAD-MQTT.ipynb",
   "provenance": []
  },
  "kernelspec": {
   "display_name": "Python 3",
   "language": "python",
   "name": "python3"
  },
  "language_info": {
   "codemirror_mode": {
    "name": "ipython",
    "version": 3
   },
   "file_extension": ".py",
   "mimetype": "text/x-python",
   "name": "python",
   "nbconvert_exporter": "python",
   "pygments_lexer": "ipython3",
   "version": "3.7.6"
  }
 },
 "nbformat": 4,
 "nbformat_minor": 1
}
